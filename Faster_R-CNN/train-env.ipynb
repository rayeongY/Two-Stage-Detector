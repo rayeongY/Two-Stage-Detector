{
 "cells": [
  {
   "cell_type": "code",
   "execution_count": null,
   "source": [
    "## BACKBONE: VGG-16\r\n",
    "## DATASET: MS COCO\r\n",
    "## ..."
   ],
   "outputs": [],
   "metadata": {}
  },
  {
   "cell_type": "code",
   "execution_count": null,
   "source": [
    "## FIRST\r\n",
    "## \r\n",
    "## Need to PRE-PROCESSING for input Images"
   ],
   "outputs": [],
   "metadata": {}
  },
  {
   "cell_type": "code",
   "execution_count": null,
   "source": [
    "## SECOND\r\n",
    "##\r\n",
    "## Get feature maps through BACKBONE"
   ],
   "outputs": [],
   "metadata": {}
  },
  {
   "cell_type": "code",
   "execution_count": null,
   "source": [
    "## THIRD\r\n",
    "##\r\n",
    "## Get Objectness Score maps & Box Regressior maps for the given anchors"
   ],
   "outputs": [],
   "metadata": {}
  },
  {
   "cell_type": "code",
   "execution_count": null,
   "source": [
    "## FOURTH\r\n",
    "##\r\n",
    "## Get Region Proposal from THIRD's output"
   ],
   "outputs": [],
   "metadata": {}
  },
  {
   "cell_type": "code",
   "execution_count": null,
   "source": [
    "## FIFTH\r\n",
    "##\r\n",
    "## DO RoI Pooling"
   ],
   "outputs": [],
   "metadata": {}
  },
  {
   "cell_type": "code",
   "execution_count": null,
   "source": [
    "## SIXTH\r\n",
    "##\r\n",
    "## [FAST R-CNN]\r\n",
    "## Classification"
   ],
   "outputs": [],
   "metadata": {}
  }
 ],
 "metadata": {
  "orig_nbformat": 4,
  "language_info": {
   "name": "python",
   "version": "3.9.4"
  },
  "kernelspec": {
   "name": "python3",
   "display_name": "Python 3.9.4 64-bit ('torch': conda)"
  },
  "interpreter": {
   "hash": "3cbf2cfe2af17255c7550a0a36495165331228ad52d7cf7dc2787e8b35bbde01"
  }
 },
 "nbformat": 4,
 "nbformat_minor": 2
}