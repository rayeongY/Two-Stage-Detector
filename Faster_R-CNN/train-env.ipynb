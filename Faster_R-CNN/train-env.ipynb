{
 "cells": [
  {
   "cell_type": "code",
   "execution_count": null,
   "source": [
    "import os\r\n",
    "import tqdm\r\n",
    "import argparse\r\n",
    "\r\n",
    "from common.build import *\r\n",
    "from common.parser import yaml_parser\r\n",
    "from common.save import save_checkpoint\r\n",
    "from data.dataset import *\r\n",
    "from model.model import FasterRCNN\r\n",
    "\r\n",
    "import torch\r\n",
    "import torch.nn as nn\r\n",
    "from torch.utils.tensorboard import SummaryWriter"
   ],
   "outputs": [],
   "metadata": {}
  },
  {
   "cell_type": "code",
   "execution_count": null,
   "source": [
    "import easydict\r\n",
    "\r\n",
    "args = easydict.EasyDict({\r\n",
    "    \"config\": \"C:/Users/ryyoon/RY_GitHub/YOLO-v3/configs/model/yolov3.cfg\",\r\n",
    "    # \"config\": \"C:/Users/ryyoon/RY_GitHub/YOLO-v3/configs/darknet/yolov4.cfg\",\r\n",
    "    \"weight\": \"C:/Users/ryyoon/RY_GitHub/YOLO-v3/configs/darknet/yolov3-608.weights\",\r\n",
    "    \"dataset\": \"C:/Users/ryyoon/RY_GitHub/YOLO-v3/configs/dataset/yolo_dataset.yml\",\r\n",
    "    \"model\": \"C:/Users/ryyoon/RY_GitHub/YOLO-v3/configs/model/yolo_model.yml\",\r\n",
    "    \"optimizer\": \"C:/Users/ryyoon/RY_GitHub/YOLO-v3/configs/optimizer/optimizer.yml\",\r\n",
    "    \"weight_save_dir\": \"C:/Users/ryyoon/RY_GitHub/YOLO-v3/weights\"\r\n",
    "})\r\n",
    "\r\n",
    "\r\n",
    "dataset_option = yaml_parser(args.dataset)\r\n",
    "model_option = yaml_parser(args.model)\r\n",
    "optimizer_option = yaml_parser(args.optimizer)\r\n",
    "\r\n",
    "model_option[\"MODEL\"][\"NUM_CLASSES\"] = dataset_option[\"DATASET\"][\"NUM_CLASSES\"]"
   ],
   "outputs": [],
   "metadata": {}
  },
  {
   "cell_type": "code",
   "execution_count": null,
   "source": [
    "## BACKBONE: VGG-16\r\n",
    "## DATASET: MS COCO\r\n",
    "## ..."
   ],
   "outputs": [],
   "metadata": {}
  },
  {
   "cell_type": "code",
   "execution_count": null,
   "source": [
    "## FIRST\r\n",
    "## \r\n",
    "## Need to PRE-PROCESSING for input Images"
   ],
   "outputs": [],
   "metadata": {}
  },
  {
   "cell_type": "code",
   "execution_count": null,
   "source": [
    "## SECOND\r\n",
    "##\r\n",
    "## Get feature maps through BACKBONE"
   ],
   "outputs": [],
   "metadata": {}
  },
  {
   "cell_type": "code",
   "execution_count": null,
   "source": [
    "## THIRD\r\n",
    "##\r\n",
    "## Get Objectness Score maps & Box Regressior maps for the given anchors"
   ],
   "outputs": [],
   "metadata": {}
  },
  {
   "cell_type": "code",
   "execution_count": null,
   "source": [
    "## FOURTH\r\n",
    "##\r\n",
    "## Get Region Proposal from THIRD's output"
   ],
   "outputs": [],
   "metadata": {}
  },
  {
   "cell_type": "code",
   "execution_count": null,
   "source": [
    "## FIFTH\r\n",
    "##\r\n",
    "## DO RoI Pooling"
   ],
   "outputs": [],
   "metadata": {}
  },
  {
   "cell_type": "code",
   "execution_count": null,
   "source": [
    "## SIXTH\r\n",
    "##\r\n",
    "## [FAST R-CNN]\r\n",
    "## Classification"
   ],
   "outputs": [],
   "metadata": {}
  },
  {
   "cell_type": "code",
   "execution_count": null,
   "source": [],
   "outputs": [],
   "metadata": {}
  },
  {
   "cell_type": "code",
   "execution_count": null,
   "source": [
    "## Build Seed\r\n"
   ],
   "outputs": [],
   "metadata": {}
  },
  {
   "cell_type": "code",
   "execution_count": null,
   "source": [
    "## Get device\r\n",
    "device = torch.device('cuda:0' if torch.cuda.is_available() else 'cpu')"
   ],
   "outputs": [],
   "metadata": {}
  },
  {
   "cell_type": "code",
   "execution_count": null,
   "source": [
    "## Build Dataset, DataLoader\r\n",
    "train_loader, valid_loader, num_dataset = build_dataloader(dataset_option, model_option, optimizer_option)"
   ],
   "outputs": [],
   "metadata": {}
  },
  {
   "cell_type": "code",
   "execution_count": null,
   "source": [
    "## Build Model\r\n",
    "model = FasterRCNN(\r\n",
    "    model_option\r\n",
    ").to(device)\r\n",
    "model = nn.Dataparallel(model)"
   ],
   "outputs": [],
   "metadata": {}
  },
  {
   "cell_type": "code",
   "execution_count": null,
   "source": [
    "## Build Optimizer\r\n",
    "param_groups = model.module.parameters() if isinstance(model, nn.DataParallel) else model.parameters()\r\n",
    "\r\n",
    "optimizer = build_optimizer(optimizer_option, param_groups)\r\n",
    "\r\n",
    "for param_group in optimizer.param_groups:\r\n",
    "    param_group['lr'] = 0.\r\n",
    "optimizer_option[\"OPTIMIZER\"][\"ITERS_PER_EPOCH\"] = num_dataset // optimizer_option[\"OPTIMIZER\"][\"BATCH_SIZE\"]"
   ],
   "outputs": [],
   "metadata": {}
  },
  {
   "cell_type": "code",
   "execution_count": null,
   "source": [
    "## Build Scheduler\r\n"
   ],
   "outputs": [],
   "metadata": {}
  },
  {
   "cell_type": "code",
   "execution_count": null,
   "source": [
    "## Set Logger\r\n",
    "logger = SummaryWriter()"
   ],
   "outputs": [],
   "metadata": {}
  },
  {
   "cell_type": "code",
   "execution_count": null,
   "source": [
    "def train(\r\n",
    "    model,\r\n",
    "    train_loader,\r\n",
    "    optimizer,\r\n",
    "    scheduler,\r\n",
    "    logger,\r\n",
    "    epoch,\r\n",
    "    optim_opt,\r\n",
    "):\r\n",
    "\r\n",
    "\r\n",
    "    pass"
   ],
   "outputs": [],
   "metadata": {}
  },
  {
   "cell_type": "code",
   "execution_count": null,
   "source": [
    "def valid(\r\n",
    "    model,\r\n",
    "    valid_loader,\r\n",
    "    logger,\r\n",
    "    epoch,\r\n",
    "):\r\n",
    "\r\n",
    "    acc = 0\r\n",
    "    return acc"
   ],
   "outputs": [],
   "metadata": {}
  },
  {
   "cell_type": "code",
   "execution_count": null,
   "source": [
    "# epochs = optimizer_option[\"OPTIMIZER\"][\"EPOCHS\"]\r\n",
    "epochs = 1\r\n",
    "\r\n",
    "for epoch in range(epochs):\r\n",
    "    train(\r\n",
    "        model,\r\n",
    "        train_loader,\r\n",
    "        optimizer,\r\n",
    "        # scheduler,\r\n",
    "        logger,\r\n",
    "        epoch\r\n",
    "    )\r\n",
    "\r\n",
    "    acc = valid(\r\n",
    "        model,\r\n",
    "        valid_loader,\r\n",
    "        logger,\r\n",
    "        epoch\r\n",
    "    )\r\n",
    "\r\n",
    "    print(f\"Epoch: ({epoch + 1}/{epochs}) . . . [mAP: {mAP}]\")\r\n",
    "    save_checkpoint(\r\n",
    "        epoch,\r\n",
    "        acc,\r\n",
    "        model,\r\n",
    "        optimizer,\r\n",
    "        args.weight_save_dir\r\n",
    "    )"
   ],
   "outputs": [],
   "metadata": {}
  }
 ],
 "metadata": {
  "orig_nbformat": 4,
  "language_info": {
   "name": "python",
   "version": "3.9.4",
   "mimetype": "text/x-python",
   "codemirror_mode": {
    "name": "ipython",
    "version": 3
   },
   "pygments_lexer": "ipython3",
   "nbconvert_exporter": "python",
   "file_extension": ".py"
  },
  "kernelspec": {
   "name": "python3",
   "display_name": "Python 3.9.4 64-bit ('torch': conda)"
  },
  "interpreter": {
   "hash": "3cbf2cfe2af17255c7550a0a36495165331228ad52d7cf7dc2787e8b35bbde01"
  }
 },
 "nbformat": 4,
 "nbformat_minor": 2
}